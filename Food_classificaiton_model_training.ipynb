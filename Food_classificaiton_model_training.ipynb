{
 "cells": [
  {
   "cell_type": "code",
   "execution_count": 7,
   "metadata": {},
   "outputs": [],
   "source": [
    "#Imports\n",
    "import torch\n",
    "import torchvision\n",
    "import numpy as np\n",
    "import torch.nn as nn\n",
    "import torch.functional as F\n",
    "import pandas as pd\n",
    "import os\n",
    "from torchvision.io import read_image\n",
    "from torch.utils.data import Dataset\n",
    "from torch.utils.data import DataLoader, SubsetRandomSampler\n",
    "from torchvision.transforms import transforms\n",
    "import matplotlib.pyplot as plt\n",
    "from PIL import Image"
   ]
  },
  {
   "cell_type": "code",
   "execution_count": 8,
   "metadata": {},
   "outputs": [],
   "source": [
    "#Constants\n",
    "img_dir = r\"C:\\Users\\Humperdink2\\Documents\\github\\NewHacks2023\\Food Images\\Food Images\"\n",
    "data_dir = r\"C:\\Users\\Humperdink2\\Documents\\github\\NewHacks2023\\Food Ingredients and Recipe Dataset with Image Name Mapping.csv\"\n",
    "batch_size = 128\n",
    "learning_rate = 0.001\n",
    "momentum = 0.9\n",
    "img_size = 169\n",
    "output_size = 13500"
   ]
  },
  {
   "cell_type": "code",
   "execution_count": 9,
   "metadata": {},
   "outputs": [],
   "source": [
    "\n",
    "# constructing the dataloader\n",
    "class foodImageDataset(Dataset):\n",
    "    def __init__(self, img_dir, data_dir, transformation = None):\n",
    "        self.img_dir = img_dir\n",
    "        #self.ingr = pd.read_csv(data_dir, header=1,usecols=[5])\n",
    "        self.transform = transformation\n",
    "        self.labels = pd.read_csv(data_dir, header=1,usecols=[0,4])\n",
    "\n",
    "    #Later augment the dataset to give more images per class to increase accuracy\n",
    "\n",
    "    def __len__(self):\n",
    "       return len(self.labels)\n",
    "    \n",
    "    def __getitem__(self, idx):\n",
    "        img_path = os.path.join(self.img_dir, self.labels.iloc[idx,1] + \".jpeg\")\n",
    "        try:\n",
    "            image = read_image(img_path)\n",
    "        except:\n",
    "            return None\n",
    "        label = self.labels.iloc[idx, 0]\n",
    "        if self.transform is not None:\n",
    "            image = self.transform(image)\n",
    "        return image, label\n",
    "\n",
    "    def __getingrs__(self, index):\n",
    "        return self.ingr.iloc[index,0]"
   ]
  },
  {
   "cell_type": "code",
   "execution_count": 1,
   "metadata": {},
   "outputs": [
    {
     "ename": "NameError",
     "evalue": "name 'RandomSampler' is not defined",
     "output_type": "error",
     "traceback": [
      "\u001b[1;31m---------------------------------------------------------------------------\u001b[0m",
      "\u001b[1;31mNameError\u001b[0m                                 Traceback (most recent call last)",
      "\u001b[1;32mc:\\Users\\Humperdink2\\Documents\\github\\NewHacks2023\\Food_classificaiton_model_training.ipynb Cell 4\u001b[0m line \u001b[0;36m1\n\u001b[1;32m----> <a href='vscode-notebook-cell:/c%3A/Users/Humperdink2/Documents/github/NewHacks2023/Food_classificaiton_model_training.ipynb#W3sZmlsZQ%3D%3D?line=0'>1</a>\u001b[0m \u001b[39mclass\u001b[39;00m \u001b[39mSampler\u001b[39;00m(RandomSampler):\n\u001b[0;32m      <a href='vscode-notebook-cell:/c%3A/Users/Humperdink2/Documents/github/NewHacks2023/Food_classificaiton_model_training.ipynb#W3sZmlsZQ%3D%3D?line=1'>2</a>\u001b[0m     \u001b[39m#removes bad values\u001b[39;00m\n\u001b[0;32m      <a href='vscode-notebook-cell:/c%3A/Users/Humperdink2/Documents/github/NewHacks2023/Food_classificaiton_model_training.ipynb#W3sZmlsZQ%3D%3D?line=3'>4</a>\u001b[0m     \u001b[39mdef\u001b[39;00m \u001b[39m__init__\u001b[39m(\u001b[39mself\u001b[39m, data_source, forbidden \u001b[39m=\u001b[39m []) \u001b[39m-\u001b[39m\u001b[39m>\u001b[39m \u001b[39mNone\u001b[39;00m:\n\u001b[0;32m      <a href='vscode-notebook-cell:/c%3A/Users/Humperdink2/Documents/github/NewHacks2023/Food_classificaiton_model_training.ipynb#W3sZmlsZQ%3D%3D?line=4'>5</a>\u001b[0m         \u001b[39msuper\u001b[39m()\u001b[39m.\u001b[39m\u001b[39m__init__\u001b[39m(data_source)\n",
      "\u001b[1;31mNameError\u001b[0m: name 'RandomSampler' is not defined"
     ]
    }
   ],
   "source": [
    "class Sampler(RandomSampler):\n",
    "    #removes bad values\n",
    "    \n",
    "    def __init__(self, data_source, forbidden = []) -> None:\n",
    "        super().__init__(data_source)\n",
    "        self.data_source = data_source\n",
    "        self.forbidden = forbidden\n",
    "        self.refill()\n",
    "\n",
    "    def remove(self, new_forbidden):\n",
    "        # Remove numbers from the available indices\n",
    "        for num in new_forbidden:\n",
    "            if not (num in self.forbidden):\n",
    "                self.forbidden.append(num)\n",
    "        self._remove(new_forbidden)\n",
    "\n",
    "    def _remove(self, to_remove):\n",
    "        # Remove numbers just for this epoch\n",
    "        for num in to_remove:\n",
    "            if num in self.idx:\n",
    "                self.idx.remove(num)\n",
    "\n",
    "        self._num_samples = len(self.idx)\n",
    "\n",
    "    def refill(self):\n",
    "        # Refill the indices after iterating through the entire DataLoader\n",
    "        self.idx = list(range(len(self.data_source)))\n",
    "        self._remove(self.forbidden)\n",
    "\n",
    "    def __iter__(self) -> Iterator[int]:\n",
    "        for _ in range(self.num_samples // 32):\n",
    "            batch = random.sample(self.idx, 32)\n",
    "            self._remove(batch)\n",
    "            yield from batch\n",
    "        yield from random.sample(self.idx, self.num_samples % 32)\n",
    "        self.refill()"
   ]
  },
  {
   "cell_type": "code",
   "execution_count": null,
   "metadata": {},
   "outputs": [
    {
     "ename": "SyntaxError",
     "evalue": "invalid syntax (1686043050.py, line 53)",
     "output_type": "error",
     "traceback": [
      "\u001b[1;36m  Cell \u001b[1;32mIn[5], line 53\u001b[1;36m\u001b[0m\n\u001b[1;33m    if\u001b[0m\n\u001b[1;37m       ^\u001b[0m\n\u001b[1;31mSyntaxError\u001b[0m\u001b[1;31m:\u001b[0m invalid syntax\n"
     ]
    }
   ],
   "source": [
    "#Model Declaration\n",
    "class FoodModel(nn.Module):\n",
    "    device = torch.cuda.set_device(0)\n",
    "\n",
    "    def __init__(self,img_size, output_size):\n",
    "        super().__init__()\n",
    "        self.conv1 = nn.Conv2d(3,55,kernel_size=(9,9), stride=3, padding=1)\n",
    "        self.act1 = nn.ReLU()\n",
    "        self.drop1 = nn.Dropout(0.3)\n",
    "        print(\"init1\")\n",
    "\n",
    "        self.conv2 = nn.Conv2d(55,26,kernel_size=(5,5), stride=2, padding=1)\n",
    "        self.act2 = nn.ReLU()\n",
    "        self.pool2 = nn.MaxPool2d(kernel_size=(2,2))\n",
    "        print(\"init2\")\n",
    "\n",
    "        self.flat = nn.Flatten()\n",
    "        print(\"init3\")\n",
    "\n",
    "        self.fc3 = nn.Linear(4394, int(output_size*2))\n",
    "        self.act3 = nn.ReLU()\n",
    "        self.drop3 = nn.Dropout(.5)\n",
    "        print(\"init4\")\n",
    "        \n",
    "        self.fc4 = nn.Linear(output_size*2, output_size)\n",
    "        print(\"init5\")\n",
    "\n",
    "    def forward(self, image):\n",
    "        #First layer\n",
    "        image = self.act1(self.conv1(image))\n",
    "        image = self.drop1(image)\n",
    "        print(\"train1\")\n",
    "        \n",
    "        #Second layer\n",
    "        image = self.act2(self.conv2(image))\n",
    "        image = self.pool2(image)\n",
    "        print(\"train2\")\n",
    "\n",
    "        #Third layer\n",
    "        image = self.flat(image)\n",
    "        image = self.act3(self.fc3(image))\n",
    "        image = self.drop3(image)\n",
    "        print(\"train3\")\n",
    "\n",
    "        #output\n",
    "        image = self.fc4(image)\n",
    "        return image\n",
    "    \n",
    "    def train(self, epochs, train_dl, loss_fn, opt):\n",
    "        for epoch in range(epochs):\n",
    "            count = 0\n",
    "            for images, labels in train_dl:\n",
    "                images = images.to(torch.device(\"cuda\"))\n",
    "\n",
    "                try:\n",
    "                    preds = self(images)\n",
    "                except:\n",
    "                    print(labels)\n",
    "                    continue\n",
    "                loss = loss_fn(preds, labels)\n",
    "                #training\n",
    "                opt.zero_grad()\n",
    "                loss.backward()\n",
    "                opt.step()\n",
    "                count += 1"
   ]
  },
  {
   "cell_type": "code",
   "execution_count": null,
   "metadata": {},
   "outputs": [
    {
     "name": "stdout",
     "output_type": "stream",
     "text": [
      "init1\n",
      "init2\n",
      "init3\n"
     ]
    },
    {
     "name": "stdout",
     "output_type": "stream",
     "text": [
      "init4\n",
      "init5\n"
     ]
    }
   ],
   "source": [
    "model = FoodModel(img_size, output_size)"
   ]
  },
  {
   "cell_type": "code",
   "execution_count": null,
   "metadata": {},
   "outputs": [],
   "source": [
    "#sampler\n",
    "sampler = Sampler()"
   ]
  },
  {
   "cell_type": "code",
   "execution_count": null,
   "metadata": {},
   "outputs": [],
   "source": [
    "#Setting Model\n",
    "opt = torch.optim.SGD(model.parameters(), lr=learning_rate)\n",
    "loss_fn = nn.CrossEntropyLoss()\n",
    "transform = transforms.Compose([\n",
    "    transforms.ToPILImage(),\n",
    "    transforms.Resize((169,169)),\n",
    "    transforms.ToTensor(),\n",
    "])\n",
    "food = foodImageDataset(img_dir, data_dir, transformation=transform)\n",
    "food_dl = DataLoader(food, batch_size, sampler=)"
   ]
  },
  {
   "cell_type": "code",
   "execution_count": null,
   "metadata": {},
   "outputs": [
    {
     "ename": "NameError",
     "evalue": "name 'model' is not defined",
     "output_type": "error",
     "traceback": [
      "\u001b[1;31m---------------------------------------------------------------------------\u001b[0m",
      "\u001b[1;31mNameError\u001b[0m                                 Traceback (most recent call last)",
      "\u001b[1;32mc:\\Users\\Humperdink2\\Documents\\github\\NewHacks2023\\Food_classificaiton_model_training.ipynb Cell 8\u001b[0m line \u001b[0;36m2\n\u001b[0;32m      <a href='vscode-notebook-cell:/c%3A/Users/Humperdink2/Documents/github/NewHacks2023/Food_classificaiton_model_training.ipynb#X10sZmlsZQ%3D%3D?line=0'>1</a>\u001b[0m \u001b[39m#Running Model\u001b[39;00m\n\u001b[1;32m----> <a href='vscode-notebook-cell:/c%3A/Users/Humperdink2/Documents/github/NewHacks2023/Food_classificaiton_model_training.ipynb#X10sZmlsZQ%3D%3D?line=1'>2</a>\u001b[0m model\u001b[39m.\u001b[39mtrain(\u001b[39m5\u001b[39m,food_dl,loss_fn,opt)\n",
      "\u001b[1;31mNameError\u001b[0m: name 'model' is not defined"
     ]
    }
   ],
   "source": [
    "#Running Model\n",
    "model.train(5,food_dl,loss_fn,opt)"
   ]
  },
  {
   "cell_type": "code",
   "execution_count": null,
   "metadata": {},
   "outputs": [],
   "source": [
    "def get(img_dir, data_dir, transformation = None):\n",
    "        data = pd.read_csv(data_dir, header=1)\n",
    "        \n",
    "        # Extracting specific columns for labels and ingredients\n",
    "        labels = data.iloc[:, [1,4]]  # Assuming the label is in column 1 and ingredient in column 4\n",
    "        print(labels)\n",
    "        ingr = data.iloc[:, 5]\n",
    "        print(ingr[6957, 1])\n",
    "\n",
    "get(img_dir,data_dir)"
   ]
  }
 ],
 "metadata": {
  "kernelspec": {
   "display_name": "newhacks",
   "language": "python",
   "name": "python3"
  },
  "language_info": {
   "codemirror_mode": {
    "name": "ipython",
    "version": 3
   },
   "file_extension": ".py",
   "mimetype": "text/x-python",
   "name": "python",
   "nbconvert_exporter": "python",
   "pygments_lexer": "ipython3",
   "version": "3.10.13"
  }
 },
 "nbformat": 4,
 "nbformat_minor": 2
}
