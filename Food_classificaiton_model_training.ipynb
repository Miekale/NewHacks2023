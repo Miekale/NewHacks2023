{
 "cells": [
  {
   "cell_type": "code",
   "execution_count": 9,
   "metadata": {},
   "outputs": [],
   "source": [
    "#Imports\n",
    "import torch\n",
    "import torchvision\n",
    "import numpy as np\n",
    "import torch.nn as nn\n",
    "import torch.functional as F\n",
    "import pandas as pd\n",
    "import os\n",
    "import torchvision.io as read_image\n",
    "from torch.utils.data import Dataset\n",
    "from torch.utils.data import DataLoader\n",
    "from torchvision.transforms import transforms\n",
    "import matplotlib.pyplot as plt"
   ]
  },
  {
   "cell_type": "code",
   "execution_count": 10,
   "metadata": {},
   "outputs": [],
   "source": [
    "# constructing the dataloader\n",
    "class foodImageDataset(Dataset):\n",
    "    def __init__(self, img_dir, data_dir, transformation = None):\n",
    "        self.img_dir = img_dir\n",
    "        self.ingr = pd.read_csv(data_dir, header=1,usecols=[5])\n",
    "        self.transform = transformation\n",
    "        self.labels = pd.read_csv(data_dir, header=1,usecols=[1,4])\n",
    "        print(self.ingr)\n",
    "\n",
    "    #Later augment the dataset to give more images per class to increase accuracy\n",
    "\n",
    "    def __len__(self):\n",
    "       return len(self.labels)\n",
    "    \n",
    "    def __getitem__(self, idx):\n",
    "        img_path = os.path.join(self.img_dir, self.labels[idx,1])\n",
    "        image = read_image(img_path)\n",
    "        label = self.labels[idx,0]\n",
    "        if self.transform is not None:\n",
    "            image = self.transform(image)\n",
    "        return image, label\n",
    "\n",
    "    def __getingrs__(self, index):\n",
    "        return self.ingr[index]"
   ]
  },
  {
   "cell_type": "code",
   "execution_count": 7,
   "metadata": {},
   "outputs": [],
   "source": [
    "#Model Declaration\n",
    "class FoodModel(nn.Module):\n",
    "    def __init__(self,img_size):\n",
    "        super().__intit__()\n",
    "        self.conv1 = nn.conv2d(3,img_size,kernel_size=(20,20), stride=1)\n",
    "        self.act1 = nn.RelU()\n",
    "        self.drop1 = nn.Dropout(0.3)\n",
    "\n",
    "        self.conv2 = nn.conv2d(3,img_size,kernel_size=(20,20), stride=1, padding=1)\n",
    "        self.act2 = nn.RelU()\n",
    "        self.drop2 = nn.Dropout(0.3)\n",
    "\n",
    "        self.conv2 = nn.conv2d(3,img_size,kernel_size=(20,20), stride=1, padding=1)\n",
    "        self.act2 = nn.RelU()\n",
    "        self.drop2 = nn.Dropout(0.3)\n",
    "\n",
    "        self.conv2 = nn.conv2d(3,img_size,kernel_size=(20,20), stride=1, padding=1)\n",
    "        self.act2 = nn.RelU()\n",
    "        self.drop2 = nn.Dropout(0.3)\n",
    "        \n",
    "        self.conv2 = nn.conv2d(3,img_size,kernel_size=(20,20), stride=1, padding=1)\n",
    "        self.act2 = nn.RelU()\n",
    "        self.drop2 = nn.Dropout(0.3)\n",
    "\n",
    "    def forward(self, image):\n",
    "        image = transforms.Resize(169)\n"
   ]
  },
  {
   "cell_type": "code",
   "execution_count": 6,
   "metadata": {},
   "outputs": [],
   "source": [
    "#Constants\n",
    "img_dir = r\"C:\\Users\\Humperdink2\\Documents\\github\\NewHacks2023\\Food Images\\Food Images\"\n",
    "data_dir = r\"C:\\Users\\Humperdink2\\Documents\\github\\NewHacks2023\\Food Ingredients and Recipe Dataset with Image Name Mapping.csv\"\n",
    "batch_size = 128\n",
    "learning_rate = 0.0002\n",
    "momentum = 0.09\n",
    "img_size = 169"
   ]
  },
  {
   "cell_type": "code",
   "execution_count": null,
   "metadata": {},
   "outputs": [],
   "source": [
    "#Setting Model\n",
    "loss_fn = nn.CrossEntropyLoss()\n",
    "model = FoodModel(img_size)\n",
    "opt = torch.optim.SGD(model.parameters(), learning_rate, momentum=momentum)\n",
    "food = foodImageDataset(img_dir, data_dir)\n",
    "food_dl = DataLoader(food, batch_size, shuffle=True)"
   ]
  },
  {
   "cell_type": "code",
   "execution_count": null,
   "metadata": {},
   "outputs": [],
   "source": [
    "#Running Model"
   ]
  }
 ],
 "metadata": {
  "kernelspec": {
   "display_name": "newhacks",
   "language": "python",
   "name": "python3"
  },
  "language_info": {
   "codemirror_mode": {
    "name": "ipython",
    "version": 3
   },
   "file_extension": ".py",
   "mimetype": "text/x-python",
   "name": "python",
   "nbconvert_exporter": "python",
   "pygments_lexer": "ipython3",
   "version": "3.10.13"
  }
 },
 "nbformat": 4,
 "nbformat_minor": 2
}
